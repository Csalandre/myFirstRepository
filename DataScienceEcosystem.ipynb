{
 "cells": [
  {
   "cell_type": "markdown",
   "id": "995a20a3-de11-4ff4-8e74-d23824c9d4ac",
   "metadata": {},
   "source": [
    "# Data Science Tools and Ecosystem"
   ]
  },
  {
   "cell_type": "markdown",
   "id": "32c9ebd4-69e8-4a8d-b68d-6871acd03e14",
   "metadata": {},
   "source": [
    "In this notebook, Data Science Tools and Ecosystem are summarized."
   ]
  },
  {
   "cell_type": "markdown",
   "id": "29c45dd2-313b-49f1-80a1-b188ce65b545",
   "metadata": {},
   "source": [
    "**Objectives**\n",
    "- List popular languages for Data Science\n",
    "- List commonly used libraries\n",
    "- List data science tools"
   ]
  },
  {
   "cell_type": "markdown",
   "id": "44b74f79-7286-4ed7-9d7f-3bf99deac7d9",
   "metadata": {},
   "source": [
    "Some of the popular languages that Data Scientists use are:\n",
    "1. Python\n",
    "2. R\n",
    "3. SQL\n",
    "4. Scala\n",
    "5. Julia\n",
    "6. Java"
   ]
  },
  {
   "cell_type": "markdown",
   "id": "33894247-2959-4d19-beab-71e82e48aa9a",
   "metadata": {},
   "source": [
    "Some of the commonly used libraries used by Data Scientists include:\n",
    "1. Pandas\n",
    "2. TensorFlow\n",
    "3. Sciki-learn\n",
    "4. NumPy"
   ]
  },
  {
   "cell_type": "markdown",
   "id": "2f0b3a04-20fd-430a-9f69-84127e3ea00a",
   "metadata": {},
   "source": [
    "|Data Science Tools|\n",
    "|------------------|\n",
    "|RStudio           |\n",
    "|Juypter Notebooks |\n",
    "|MySQL             |"
   ]
  },
  {
   "cell_type": "markdown",
   "id": "8e54b832-193d-4c62-9029-c2a412547d42",
   "metadata": {},
   "source": [
    "### Below are a few examples of evaluating arithmetic expressions in Python"
   ]
  },
  {
   "cell_type": "code",
   "execution_count": null,
   "id": "bffa0161-b082-47ab-81e8-5ad2c182c016",
   "metadata": {},
   "outputs": [],
   "source": [
    "#This is a simple arithmetic expression to multiply then add integer."
   ]
  },
  {
   "cell_type": "code",
   "execution_count": 1,
   "id": "7414278d-252a-436b-a800-66f0e4e7766a",
   "metadata": {},
   "outputs": [
    {
     "data": {
      "text/plain": [
       "17"
      ]
     },
     "execution_count": 1,
     "metadata": {},
     "output_type": "execute_result"
    }
   ],
   "source": [
    "(3*4)+5"
   ]
  },
  {
   "cell_type": "code",
   "execution_count": null,
   "id": "8918829b-6cbc-4bbb-bfa2-703fe3a88d05",
   "metadata": {},
   "outputs": [],
   "source": [
    "#This will convert 200 minutes to hours by dividing by 60."
   ]
  },
  {
   "cell_type": "code",
   "execution_count": 2,
   "id": "5226ca07-7468-499a-a48a-5f9054ed37e7",
   "metadata": {},
   "outputs": [
    {
     "data": {
      "text/plain": [
       "3.3333333333333335"
      ]
     },
     "execution_count": 2,
     "metadata": {},
     "output_type": "execute_result"
    }
   ],
   "source": [
    "200/60"
   ]
  },
  {
   "cell_type": "markdown",
   "id": "225ad4ca-c8c6-4080-8363-5a0b71fb7bd3",
   "metadata": {},
   "source": [
    "## Author\n",
    "Caelan Salandre"
   ]
  },
  {
   "cell_type": "code",
   "execution_count": null,
   "id": "1f813942-91e5-4273-aea3-4c9b807060b0",
   "metadata": {},
   "outputs": [],
   "source": []
  }
 ],
 "metadata": {
  "kernelspec": {
   "display_name": "Python 3 (ipykernel)",
   "language": "python",
   "name": "python3"
  },
  "language_info": {
   "codemirror_mode": {
    "name": "ipython",
    "version": 3
   },
   "file_extension": ".py",
   "mimetype": "text/x-python",
   "name": "python",
   "nbconvert_exporter": "python",
   "pygments_lexer": "ipython3",
   "version": "3.11.7"
  }
 },
 "nbformat": 4,
 "nbformat_minor": 5
}
